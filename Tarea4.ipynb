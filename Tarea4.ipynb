{
  "nbformat": 4,
  "nbformat_minor": 0,
  "metadata": {
    "colab": {
      "name": "Tarea4.ipynb",
      "provenance": [],
      "collapsed_sections": [],
      "authorship_tag": "ABX9TyM4y5UmYPjV6H/vL08KXMHQ",
      "include_colab_link": true
    },
    "kernelspec": {
      "name": "python3",
      "display_name": "Python 3"
    },
    "language_info": {
      "name": "python"
    }
  },
  "cells": [
    {
      "cell_type": "markdown",
      "metadata": {
        "id": "view-in-github",
        "colab_type": "text"
      },
      "source": [
        "<a href=\"https://colab.research.google.com/github/GabydrielAraule/Tarea_4/blob/main/Tarea4.ipynb\" target=\"_parent\"><img src=\"https://colab.research.google.com/assets/colab-badge.svg\" alt=\"Open In Colab\"/></a>"
      ]
    },
    {
      "cell_type": "code",
      "metadata": {
        "colab": {
          "base_uri": "https://localhost:8080/"
        },
        "id": "F02u6m0Kekh9",
        "outputId": "5834ca86-d345-4df3-b742-bd67b1999dcd"
      },
      "source": [
        "from math import sqrt\n",
        "A = int(input(\"Ingrese el coeficiente de la variable cuadrática\\n\"))\n",
        "B = int(input(\"Ingrese el coeficiente de la variable lineal\\n\"))\n",
        "C = int(input(\"Ingrese el término independiente\\n\"))\n",
        "def chicharronera(a,b,c):   \n",
        "    determinante = b**2 -4*a*c \n",
        "    if determinante > 0:\n",
        "        x_1= (-b+sqrt(b**2-(4*a*c)))/(2*a)\n",
        "        x_2= (-b-sqrt(b**2-(4*a*c)))/(2*a)\n",
        "        return x_1, x_2\n",
        "    elif determinante==0:\n",
        "        x_1 = -b /(2*a)\n",
        "        return (x_1,)\n",
        "    else:\n",
        "        return tuple()\n",
        "\n",
        "\n",
        "print(f\"La solucion es: (x1 y x2){chicharronera(A,B,C)}\")\n",
        "#print(chicharronera(1,-5,6))\n",
        "##a = input(\"Introduce la variable a\")\n",
        "#print(a)\n",
        "#b = input(\"Introduce la variable b\")\n",
        "#print(b)\n",
        "#c = input(\"Introduce la variable c\")\n",
        "#print(c)\n",
        "\n",
        "\n",
        "\n",
        "\n",
        "\n"
      ],
      "execution_count": 14,
      "outputs": [
        {
          "output_type": "stream",
          "name": "stdout",
          "text": [
            "Ingrese el coeficiente de la variable cuadrática\n",
            "1\n",
            "Ingrese el coeficiente de la variable lineal\n",
            "-5\n",
            "Ingrese el término independiente\n",
            "6\n",
            "La solucion es: (x1 y x2)(3.0, 2.0)\n"
          ]
        }
      ]
    },
    {
      "cell_type": "code",
      "metadata": {
        "colab": {
          "base_uri": "https://localhost:8080/"
        },
        "id": "Ha_b8ha77gft",
        "outputId": "ba6f93ff-8fe2-426d-9734-a0f6d52d1cd1"
      },
      "source": [
        "from math import sqrt\n",
        "A = int(input(\"Ingrese el coeficiente de la variable cuadrática\\n\"))\n",
        "B = int(input(\"Ingrese el coeficiente de la variable lineal\\n\"))\n",
        "C = int(input(\"Ingrese el término independiente\\n\"))\n",
        "x1= 0\n",
        "x2= 0\n",
        "if ((B**2)-4*A*C) < 0:\n",
        "  print(\"La solución de la ecuación es con números complejos\")\n",
        "else:\n",
        "  x1 = (-B+sqrt(B**2-(4*A*C)))/(2*A)\n",
        "  x2 = (-B-sqrt(B**2-(4*A*C)))/(2*A)\n",
        "  print(\"Las soluciones de la ecuación son:\")\n",
        "  print(x1)\n",
        "  print(x2)"
      ],
      "execution_count": null,
      "outputs": [
        {
          "output_type": "stream",
          "name": "stdout",
          "text": [
            "Ingrese el coeficiente de la variable cuadrática\n",
            "1\n",
            "Ingrese el coeficiente de la variable lineal\n",
            "-5\n",
            "Ingrese el término independiente\n",
            "6\n",
            "Las soluciones de la ecuación son:\n",
            "3.0\n",
            "2.0\n"
          ]
        }
      ]
    }
  ]
}